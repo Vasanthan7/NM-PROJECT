{
  "nbformat": 4,
  "nbformat_minor": 0,
  "metadata": {
    "colab": {
      "provenance": [],
      "authorship_tag": "ABX9TyNKk5wOPwM+QeSI/57kNjKs",
      "include_colab_link": true
    },
    "kernelspec": {
      "name": "python3",
      "display_name": "Python 3"
    },
    "language_info": {
      "name": "python"
    }
  },
  "cells": [
    {
      "cell_type": "markdown",
      "metadata": {
        "id": "view-in-github",
        "colab_type": "text"
      },
      "source": [
        "<a href=\"https://colab.research.google.com/github/Vasanthan7/NM-PROJECT/blob/main/DELIVERING_PERSONALISED_MOVIE_RECOMMENDATIONS_WITH_AN_AI_DRIVEN_MATCH_MAKING_SYSTEM.ipynb\" target=\"_parent\"><img src=\"https://colab.research.google.com/assets/colab-badge.svg\" alt=\"Open In Colab\"/></a>"
      ]
    },
    {
      "cell_type": "code",
      "execution_count": null,
      "metadata": {
        "id": "taLmd36bWi46"
      },
      "outputs": [],
      "source": [
        "HILEXB"
      ]
    }
  ]
}